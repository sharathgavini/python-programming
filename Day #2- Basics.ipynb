{
 "cells": [
  {
   "cell_type": "code",
   "execution_count": 1,
   "id": "f092eb25",
   "metadata": {},
   "outputs": [
    {
     "name": "stdout",
     "output_type": "stream",
     "text": [
      "Odd\n"
     ]
    }
   ],
   "source": [
    "#if else statements\n",
    "x = 3\n",
    "if (x%2==1):\n",
    "    print (\"Odd\")\n",
    "else:\n",
    "    print(\"Even\")\n"
   ]
  },
  {
   "cell_type": "code",
   "execution_count": 6,
   "id": "5e21fac3",
   "metadata": {},
   "outputs": [
    {
     "name": "stdout",
     "output_type": "stream",
     "text": [
      "[1, 2, 3, 4, 5]\n",
      "1\n",
      "2\n",
      "3\n",
      "4\n",
      "5\n",
      "1\n",
      "2\n",
      "3\n",
      "4\n",
      "5\n",
      "[1, 2, 3, 4, 5]\n"
     ]
    }
   ],
   "source": [
    "#loops for lists\n",
    "list=[1,2,3,4,5]\n",
    "\n",
    "#prints list\n",
    "print (list)\n",
    "\n",
    "#for-loop\n",
    "for element in list:\n",
    "    print (element)\n",
    "\n",
    "    \n",
    "#while-loop\n",
    "i=0\n",
    "while i < len(list):\n",
    "    print(list[i])\n",
    "    i+=1\n",
    "    \n",
    "#list comprehension\n",
    "\n",
    "print([x for x in list])"
   ]
  },
  {
   "cell_type": "code",
   "execution_count": 4,
   "id": "9e4edc28",
   "metadata": {},
   "outputs": [
    {
     "name": "stdout",
     "output_type": "stream",
     "text": [
      "False\n",
      "True\n"
     ]
    }
   ],
   "source": [
    "if type(6)=='<class int>':\n",
    "    print (\"True\")\n",
    "else:\n",
    "    print(\"False\")\n",
    "print(isinstance(6,int))"
   ]
  }
 ],
 "metadata": {
  "kernelspec": {
   "display_name": "Python 3 (ipykernel)",
   "language": "python",
   "name": "python3"
  },
  "language_info": {
   "codemirror_mode": {
    "name": "ipython",
    "version": 3
   },
   "file_extension": ".py",
   "mimetype": "text/x-python",
   "name": "python",
   "nbconvert_exporter": "python",
   "pygments_lexer": "ipython3",
   "version": "3.10.1"
  }
 },
 "nbformat": 4,
 "nbformat_minor": 5
}
