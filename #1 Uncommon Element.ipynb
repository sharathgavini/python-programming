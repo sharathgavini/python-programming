{
 "cells": [
  {
   "cell_type": "code",
   "execution_count": 5,
   "id": "5a9f901b",
   "metadata": {},
   "outputs": [
    {
     "data": {
      "text/plain": [
       "[-8]"
      ]
     },
     "execution_count": 5,
     "metadata": {},
     "output_type": "execute_result"
    }
   ],
   "source": [
    "a = [1,2,3,4,5,-8]\n",
    "b = [1,2,3,4,5]\n",
    "def findUncommon(list1,list2):\n",
    "    return[(uncommonElement) for uncommonElement in list1 if uncommonElement not in list2]\n",
    "findUncommon(a,b)"
   ]
  },
  {
   "cell_type": "code",
   "execution_count": 58,
   "id": "c0f3fd00",
   "metadata": {},
   "outputs": [
    {
     "data": {
      "text/plain": [
       "[-8]"
      ]
     },
     "execution_count": 58,
     "metadata": {},
     "output_type": "execute_result"
    }
   ],
   "source": [
    "#irrespective of the length of the lists\n",
    "a = [1,2,3,4,5,-8]\n",
    "b = [1,2,3,4,5]\n",
    "def findUncommon(list1,list2):\n",
    "    if len(list1)>len(list2):\n",
    "        return[uncommonElement for uncommonElement in list1 if uncommonElement not in list2]\n",
    "    else:\n",
    "        return[uncommonElement for uncommonElement in list2 if uncommonElement not in list1]\n",
    "findUncommon(a,b)"
   ]
  },
  {
   "cell_type": "code",
   "execution_count": 63,
   "id": "576a5ce7",
   "metadata": {},
   "outputs": [
    {
     "name": "stdout",
     "output_type": "stream",
     "text": [
      "[-8]\n"
     ]
    }
   ],
   "source": [
    "#irrespective of the length of the lists\n",
    "b = [1,2,3,4,5,-8]\n",
    "a = [1,2,3,4,5]\n",
    "def findUncommon(list1,list2):\n",
    "    return[(uncommonElement) for uncommonElement in list1 if uncommonElement not in list2]    \n",
    "if len(a)>len(b):\n",
    "    print(findUncommon(a,b))\n",
    "else:\n",
    "    print(findUncommon(b,a))"
   ]
  }
 ],
 "metadata": {
  "kernelspec": {
   "display_name": "Python 3 (ipykernel)",
   "language": "python",
   "name": "python3"
  },
  "language_info": {
   "codemirror_mode": {
    "name": "ipython",
    "version": 3
   },
   "file_extension": ".py",
   "mimetype": "text/x-python",
   "name": "python",
   "nbconvert_exporter": "python",
   "pygments_lexer": "ipython3",
   "version": "3.10.1"
  }
 },
 "nbformat": 4,
 "nbformat_minor": 5
}
